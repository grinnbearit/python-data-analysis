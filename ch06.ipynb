{
 "metadata": {
  "name": "",
  "signature": "sha256:eb2d46c567264d70ddc9fd0502dbe19470fce688add9c707b621a19ac7af17d4"
 },
 "nbformat": 3,
 "nbformat_minor": 0,
 "worksheets": [
  {
   "cells": [
    {
     "cell_type": "code",
     "collapsed": false,
     "input": [
      "import numpy as np\n",
      "import pandas as pd\n",
      "from pandas import Series, DataFrame\n",
      "import matplotlib.pyplot as plt\n",
      "%matplotlib inline"
     ],
     "language": "python",
     "metadata": {},
     "outputs": [],
     "prompt_number": 1
    },
    {
     "cell_type": "code",
     "collapsed": false,
     "input": [
      "!cat data/ex1.csv"
     ],
     "language": "python",
     "metadata": {},
     "outputs": [
      {
       "output_type": "stream",
       "stream": "stdout",
       "text": [
        "a,b,c,d,message\r\n",
        "1,2,3,4,hello\r\n",
        "5,6,7,8,world\r\n",
        "9,10,11,12,foo\r\n"
       ]
      }
     ],
     "prompt_number": 2
    },
    {
     "cell_type": "code",
     "collapsed": false,
     "input": [
      "df = pd.read_csv(\"data/ex1.csv\")\n",
      "df"
     ],
     "language": "python",
     "metadata": {},
     "outputs": [
      {
       "html": [
        "<div style=\"max-height:1000px;max-width:1500px;overflow:auto;\">\n",
        "<table border=\"1\" class=\"dataframe\">\n",
        "  <thead>\n",
        "    <tr style=\"text-align: right;\">\n",
        "      <th></th>\n",
        "      <th>a</th>\n",
        "      <th>b</th>\n",
        "      <th>c</th>\n",
        "      <th>d</th>\n",
        "      <th>message</th>\n",
        "    </tr>\n",
        "  </thead>\n",
        "  <tbody>\n",
        "    <tr>\n",
        "      <th>0</th>\n",
        "      <td> 1</td>\n",
        "      <td>  2</td>\n",
        "      <td>  3</td>\n",
        "      <td>  4</td>\n",
        "      <td> hello</td>\n",
        "    </tr>\n",
        "    <tr>\n",
        "      <th>1</th>\n",
        "      <td> 5</td>\n",
        "      <td>  6</td>\n",
        "      <td>  7</td>\n",
        "      <td>  8</td>\n",
        "      <td> world</td>\n",
        "    </tr>\n",
        "    <tr>\n",
        "      <th>2</th>\n",
        "      <td> 9</td>\n",
        "      <td> 10</td>\n",
        "      <td> 11</td>\n",
        "      <td> 12</td>\n",
        "      <td>   foo</td>\n",
        "    </tr>\n",
        "  </tbody>\n",
        "</table>\n",
        "</div>"
       ],
       "metadata": {},
       "output_type": "pyout",
       "prompt_number": 3,
       "text": [
        "   a   b   c   d message\n",
        "0  1   2   3   4   hello\n",
        "1  5   6   7   8   world\n",
        "2  9  10  11  12     foo"
       ]
      }
     ],
     "prompt_number": 3
    },
    {
     "cell_type": "code",
     "collapsed": false,
     "input": [
      "pd.read_csv(\"data/ex1.csv\", sep=\",\")"
     ],
     "language": "python",
     "metadata": {},
     "outputs": [
      {
       "html": [
        "<div style=\"max-height:1000px;max-width:1500px;overflow:auto;\">\n",
        "<table border=\"1\" class=\"dataframe\">\n",
        "  <thead>\n",
        "    <tr style=\"text-align: right;\">\n",
        "      <th></th>\n",
        "      <th>a</th>\n",
        "      <th>b</th>\n",
        "      <th>c</th>\n",
        "      <th>d</th>\n",
        "      <th>message</th>\n",
        "    </tr>\n",
        "  </thead>\n",
        "  <tbody>\n",
        "    <tr>\n",
        "      <th>0</th>\n",
        "      <td> 1</td>\n",
        "      <td>  2</td>\n",
        "      <td>  3</td>\n",
        "      <td>  4</td>\n",
        "      <td> hello</td>\n",
        "    </tr>\n",
        "    <tr>\n",
        "      <th>1</th>\n",
        "      <td> 5</td>\n",
        "      <td>  6</td>\n",
        "      <td>  7</td>\n",
        "      <td>  8</td>\n",
        "      <td> world</td>\n",
        "    </tr>\n",
        "    <tr>\n",
        "      <th>2</th>\n",
        "      <td> 9</td>\n",
        "      <td> 10</td>\n",
        "      <td> 11</td>\n",
        "      <td> 12</td>\n",
        "      <td>   foo</td>\n",
        "    </tr>\n",
        "  </tbody>\n",
        "</table>\n",
        "</div>"
       ],
       "metadata": {},
       "output_type": "pyout",
       "prompt_number": 4,
       "text": [
        "   a   b   c   d message\n",
        "0  1   2   3   4   hello\n",
        "1  5   6   7   8   world\n",
        "2  9  10  11  12     foo"
       ]
      }
     ],
     "prompt_number": 4
    },
    {
     "cell_type": "code",
     "collapsed": false,
     "input": [
      "pd.read_csv(\"data/ex2.csv\", header=None)"
     ],
     "language": "python",
     "metadata": {},
     "outputs": [
      {
       "html": [
        "<div style=\"max-height:1000px;max-width:1500px;overflow:auto;\">\n",
        "<table border=\"1\" class=\"dataframe\">\n",
        "  <thead>\n",
        "    <tr style=\"text-align: right;\">\n",
        "      <th></th>\n",
        "      <th>0</th>\n",
        "      <th>1</th>\n",
        "      <th>2</th>\n",
        "      <th>3</th>\n",
        "      <th>4</th>\n",
        "    </tr>\n",
        "  </thead>\n",
        "  <tbody>\n",
        "    <tr>\n",
        "      <th>0</th>\n",
        "      <td> 1</td>\n",
        "      <td>  2</td>\n",
        "      <td>  3</td>\n",
        "      <td>  4</td>\n",
        "      <td> hello</td>\n",
        "    </tr>\n",
        "    <tr>\n",
        "      <th>1</th>\n",
        "      <td> 5</td>\n",
        "      <td>  6</td>\n",
        "      <td>  7</td>\n",
        "      <td>  8</td>\n",
        "      <td> world</td>\n",
        "    </tr>\n",
        "    <tr>\n",
        "      <th>2</th>\n",
        "      <td> 9</td>\n",
        "      <td> 10</td>\n",
        "      <td> 11</td>\n",
        "      <td> 12</td>\n",
        "      <td>   foo</td>\n",
        "    </tr>\n",
        "  </tbody>\n",
        "</table>\n",
        "</div>"
       ],
       "metadata": {},
       "output_type": "pyout",
       "prompt_number": 5,
       "text": [
        "   0   1   2   3      4\n",
        "0  1   2   3   4  hello\n",
        "1  5   6   7   8  world\n",
        "2  9  10  11  12    foo"
       ]
      }
     ],
     "prompt_number": 5
    },
    {
     "cell_type": "code",
     "collapsed": false,
     "input": [
      "pd.read_csv(\"data/ex2.csv\", names=[\"a\", \"b\", \"c\", \"d\", \"message\"])"
     ],
     "language": "python",
     "metadata": {},
     "outputs": [
      {
       "html": [
        "<div style=\"max-height:1000px;max-width:1500px;overflow:auto;\">\n",
        "<table border=\"1\" class=\"dataframe\">\n",
        "  <thead>\n",
        "    <tr style=\"text-align: right;\">\n",
        "      <th></th>\n",
        "      <th>a</th>\n",
        "      <th>b</th>\n",
        "      <th>c</th>\n",
        "      <th>d</th>\n",
        "      <th>message</th>\n",
        "    </tr>\n",
        "  </thead>\n",
        "  <tbody>\n",
        "    <tr>\n",
        "      <th>0</th>\n",
        "      <td> 1</td>\n",
        "      <td>  2</td>\n",
        "      <td>  3</td>\n",
        "      <td>  4</td>\n",
        "      <td> hello</td>\n",
        "    </tr>\n",
        "    <tr>\n",
        "      <th>1</th>\n",
        "      <td> 5</td>\n",
        "      <td>  6</td>\n",
        "      <td>  7</td>\n",
        "      <td>  8</td>\n",
        "      <td> world</td>\n",
        "    </tr>\n",
        "    <tr>\n",
        "      <th>2</th>\n",
        "      <td> 9</td>\n",
        "      <td> 10</td>\n",
        "      <td> 11</td>\n",
        "      <td> 12</td>\n",
        "      <td>   foo</td>\n",
        "    </tr>\n",
        "  </tbody>\n",
        "</table>\n",
        "</div>"
       ],
       "metadata": {},
       "output_type": "pyout",
       "prompt_number": 6,
       "text": [
        "   a   b   c   d message\n",
        "0  1   2   3   4   hello\n",
        "1  5   6   7   8   world\n",
        "2  9  10  11  12     foo"
       ]
      }
     ],
     "prompt_number": 6
    },
    {
     "cell_type": "code",
     "collapsed": false,
     "input": [
      "names = [\"a\", \"b\", \"c\", \"d\", \"message\"]\n",
      "pd.read_csv(\"data/ex2.csv\", names=names, index_col=\"message\")"
     ],
     "language": "python",
     "metadata": {},
     "outputs": [
      {
       "html": [
        "<div style=\"max-height:1000px;max-width:1500px;overflow:auto;\">\n",
        "<table border=\"1\" class=\"dataframe\">\n",
        "  <thead>\n",
        "    <tr style=\"text-align: right;\">\n",
        "      <th></th>\n",
        "      <th>a</th>\n",
        "      <th>b</th>\n",
        "      <th>c</th>\n",
        "      <th>d</th>\n",
        "    </tr>\n",
        "    <tr>\n",
        "      <th>message</th>\n",
        "      <th></th>\n",
        "      <th></th>\n",
        "      <th></th>\n",
        "      <th></th>\n",
        "    </tr>\n",
        "  </thead>\n",
        "  <tbody>\n",
        "    <tr>\n",
        "      <th>hello</th>\n",
        "      <td> 1</td>\n",
        "      <td>  2</td>\n",
        "      <td>  3</td>\n",
        "      <td>  4</td>\n",
        "    </tr>\n",
        "    <tr>\n",
        "      <th>world</th>\n",
        "      <td> 5</td>\n",
        "      <td>  6</td>\n",
        "      <td>  7</td>\n",
        "      <td>  8</td>\n",
        "    </tr>\n",
        "    <tr>\n",
        "      <th>foo</th>\n",
        "      <td> 9</td>\n",
        "      <td> 10</td>\n",
        "      <td> 11</td>\n",
        "      <td> 12</td>\n",
        "    </tr>\n",
        "  </tbody>\n",
        "</table>\n",
        "</div>"
       ],
       "metadata": {},
       "output_type": "pyout",
       "prompt_number": 7,
       "text": [
        "         a   b   c   d\n",
        "message               \n",
        "hello    1   2   3   4\n",
        "world    5   6   7   8\n",
        "foo      9  10  11  12"
       ]
      }
     ],
     "prompt_number": 7
    },
    {
     "cell_type": "code",
     "collapsed": false,
     "input": [
      "!cat data/csv_mindex.csv"
     ],
     "language": "python",
     "metadata": {},
     "outputs": [
      {
       "output_type": "stream",
       "stream": "stdout",
       "text": [
        "key1,key2,value1,value2\r\n",
        "one,a,1,2\r\n",
        "one,b,3,4\r\n",
        "one,c,5,6\r\n",
        "one,d,7,8\r\n",
        "two,a,9,10\r\n",
        "two,b,11,12\r\n",
        "two,c,13,14\r\n",
        "two,d,15,16\r\n"
       ]
      }
     ],
     "prompt_number": 8
    },
    {
     "cell_type": "code",
     "collapsed": false,
     "input": [
      "parsed = pd.read_csv(\"data/csv_mindex.csv\", index_col=[\"key1\", \"key2\"])\n",
      "parsed"
     ],
     "language": "python",
     "metadata": {},
     "outputs": [
      {
       "html": [
        "<div style=\"max-height:1000px;max-width:1500px;overflow:auto;\">\n",
        "<table border=\"1\" class=\"dataframe\">\n",
        "  <thead>\n",
        "    <tr style=\"text-align: right;\">\n",
        "      <th></th>\n",
        "      <th></th>\n",
        "      <th>value1</th>\n",
        "      <th>value2</th>\n",
        "    </tr>\n",
        "    <tr>\n",
        "      <th>key1</th>\n",
        "      <th>key2</th>\n",
        "      <th></th>\n",
        "      <th></th>\n",
        "    </tr>\n",
        "  </thead>\n",
        "  <tbody>\n",
        "    <tr>\n",
        "      <th rowspan=\"4\" valign=\"top\">one</th>\n",
        "      <th>a</th>\n",
        "      <td>  1</td>\n",
        "      <td>  2</td>\n",
        "    </tr>\n",
        "    <tr>\n",
        "      <th>b</th>\n",
        "      <td>  3</td>\n",
        "      <td>  4</td>\n",
        "    </tr>\n",
        "    <tr>\n",
        "      <th>c</th>\n",
        "      <td>  5</td>\n",
        "      <td>  6</td>\n",
        "    </tr>\n",
        "    <tr>\n",
        "      <th>d</th>\n",
        "      <td>  7</td>\n",
        "      <td>  8</td>\n",
        "    </tr>\n",
        "    <tr>\n",
        "      <th rowspan=\"4\" valign=\"top\">two</th>\n",
        "      <th>a</th>\n",
        "      <td>  9</td>\n",
        "      <td> 10</td>\n",
        "    </tr>\n",
        "    <tr>\n",
        "      <th>b</th>\n",
        "      <td> 11</td>\n",
        "      <td> 12</td>\n",
        "    </tr>\n",
        "    <tr>\n",
        "      <th>c</th>\n",
        "      <td> 13</td>\n",
        "      <td> 14</td>\n",
        "    </tr>\n",
        "    <tr>\n",
        "      <th>d</th>\n",
        "      <td> 15</td>\n",
        "      <td> 16</td>\n",
        "    </tr>\n",
        "  </tbody>\n",
        "</table>\n",
        "</div>"
       ],
       "metadata": {},
       "output_type": "pyout",
       "prompt_number": 9,
       "text": [
        "           value1  value2\n",
        "key1 key2                \n",
        "one  a          1       2\n",
        "     b          3       4\n",
        "     c          5       6\n",
        "     d          7       8\n",
        "two  a          9      10\n",
        "     b         11      12\n",
        "     c         13      14\n",
        "     d         15      16"
       ]
      }
     ],
     "prompt_number": 9
    },
    {
     "cell_type": "code",
     "collapsed": false,
     "input": [
      "list(open(\"data/ex3.txt\"))"
     ],
     "language": "python",
     "metadata": {},
     "outputs": [
      {
       "metadata": {},
       "output_type": "pyout",
       "prompt_number": 10,
       "text": [
        "['A B C\\n',\n",
        " 'aaa -0.264438 -1.026059 -0.619500\\n',\n",
        " 'bbb 0.927272 0.302904 -0.032399\\n',\n",
        " 'ccc -0.264273 -0.386314 -0.217601\\n',\n",
        " 'ddd -0.871858 -0.348382 1.100491\\n']"
       ]
      }
     ],
     "prompt_number": 10
    },
    {
     "cell_type": "code",
     "collapsed": false,
     "input": [
      "result = pd.read_table(\"data/ex3.txt\", sep=\"\\s+\")\n",
      "result"
     ],
     "language": "python",
     "metadata": {},
     "outputs": [
      {
       "html": [
        "<div style=\"max-height:1000px;max-width:1500px;overflow:auto;\">\n",
        "<table border=\"1\" class=\"dataframe\">\n",
        "  <thead>\n",
        "    <tr style=\"text-align: right;\">\n",
        "      <th></th>\n",
        "      <th>A</th>\n",
        "      <th>B</th>\n",
        "      <th>C</th>\n",
        "    </tr>\n",
        "  </thead>\n",
        "  <tbody>\n",
        "    <tr>\n",
        "      <th>aaa</th>\n",
        "      <td>-0.264438</td>\n",
        "      <td>-1.026059</td>\n",
        "      <td>-0.619500</td>\n",
        "    </tr>\n",
        "    <tr>\n",
        "      <th>bbb</th>\n",
        "      <td> 0.927272</td>\n",
        "      <td> 0.302904</td>\n",
        "      <td>-0.032399</td>\n",
        "    </tr>\n",
        "    <tr>\n",
        "      <th>ccc</th>\n",
        "      <td>-0.264273</td>\n",
        "      <td>-0.386314</td>\n",
        "      <td>-0.217601</td>\n",
        "    </tr>\n",
        "    <tr>\n",
        "      <th>ddd</th>\n",
        "      <td>-0.871858</td>\n",
        "      <td>-0.348382</td>\n",
        "      <td> 1.100491</td>\n",
        "    </tr>\n",
        "  </tbody>\n",
        "</table>\n",
        "</div>"
       ],
       "metadata": {},
       "output_type": "pyout",
       "prompt_number": 11,
       "text": [
        "            A         B         C\n",
        "aaa -0.264438 -1.026059 -0.619500\n",
        "bbb  0.927272  0.302904 -0.032399\n",
        "ccc -0.264273 -0.386314 -0.217601\n",
        "ddd -0.871858 -0.348382  1.100491"
       ]
      }
     ],
     "prompt_number": 11
    },
    {
     "cell_type": "code",
     "collapsed": false,
     "input": [
      "!cat data/ex4.csv"
     ],
     "language": "python",
     "metadata": {},
     "outputs": [
      {
       "output_type": "stream",
       "stream": "stdout",
       "text": [
        "# hey!\r\n",
        "a,b,c,d,message\r\n",
        "# just wanted to make things more difficult for you\r\n",
        "# who reads CSV files with computers, anyway?\r\n",
        "1,2,3,4,hello\r\n",
        "5,6,7,8,world\r\n",
        "9,10,11,12,foo\r\n"
       ]
      }
     ],
     "prompt_number": 12
    },
    {
     "cell_type": "code",
     "collapsed": false,
     "input": [
      "pd.read_csv(\"data/ex4.csv\", skiprows=[0, 2, 3])"
     ],
     "language": "python",
     "metadata": {},
     "outputs": [
      {
       "html": [
        "<div style=\"max-height:1000px;max-width:1500px;overflow:auto;\">\n",
        "<table border=\"1\" class=\"dataframe\">\n",
        "  <thead>\n",
        "    <tr style=\"text-align: right;\">\n",
        "      <th></th>\n",
        "      <th>a</th>\n",
        "      <th>b</th>\n",
        "      <th>c</th>\n",
        "      <th>d</th>\n",
        "      <th>message</th>\n",
        "    </tr>\n",
        "  </thead>\n",
        "  <tbody>\n",
        "    <tr>\n",
        "      <th>0</th>\n",
        "      <td> 1</td>\n",
        "      <td>  2</td>\n",
        "      <td>  3</td>\n",
        "      <td>  4</td>\n",
        "      <td> hello</td>\n",
        "    </tr>\n",
        "    <tr>\n",
        "      <th>1</th>\n",
        "      <td> 5</td>\n",
        "      <td>  6</td>\n",
        "      <td>  7</td>\n",
        "      <td>  8</td>\n",
        "      <td> world</td>\n",
        "    </tr>\n",
        "    <tr>\n",
        "      <th>2</th>\n",
        "      <td> 9</td>\n",
        "      <td> 10</td>\n",
        "      <td> 11</td>\n",
        "      <td> 12</td>\n",
        "      <td>   foo</td>\n",
        "    </tr>\n",
        "  </tbody>\n",
        "</table>\n",
        "</div>"
       ],
       "metadata": {},
       "output_type": "pyout",
       "prompt_number": 13,
       "text": [
        "   a   b   c   d message\n",
        "0  1   2   3   4   hello\n",
        "1  5   6   7   8   world\n",
        "2  9  10  11  12     foo"
       ]
      }
     ],
     "prompt_number": 13
    },
    {
     "cell_type": "code",
     "collapsed": false,
     "input": [
      "!cat data/ex5.csv"
     ],
     "language": "python",
     "metadata": {},
     "outputs": [
      {
       "output_type": "stream",
       "stream": "stdout",
       "text": [
        "something,a,b,c,d,message\r\n",
        "one,1,2,3,4,NA\r\n",
        "two,5,6,,8,world\r\n",
        "three,9,10,11,12,foo\r\n"
       ]
      }
     ],
     "prompt_number": 14
    },
    {
     "cell_type": "code",
     "collapsed": false,
     "input": [
      "result = pd.read_csv(\"data/ex5.csv\")\n",
      "result"
     ],
     "language": "python",
     "metadata": {},
     "outputs": [
      {
       "html": [
        "<div style=\"max-height:1000px;max-width:1500px;overflow:auto;\">\n",
        "<table border=\"1\" class=\"dataframe\">\n",
        "  <thead>\n",
        "    <tr style=\"text-align: right;\">\n",
        "      <th></th>\n",
        "      <th>something</th>\n",
        "      <th>a</th>\n",
        "      <th>b</th>\n",
        "      <th>c</th>\n",
        "      <th>d</th>\n",
        "      <th>message</th>\n",
        "    </tr>\n",
        "  </thead>\n",
        "  <tbody>\n",
        "    <tr>\n",
        "      <th>0</th>\n",
        "      <td>   one</td>\n",
        "      <td> 1</td>\n",
        "      <td>  2</td>\n",
        "      <td>  3</td>\n",
        "      <td>  4</td>\n",
        "      <td>   NaN</td>\n",
        "    </tr>\n",
        "    <tr>\n",
        "      <th>1</th>\n",
        "      <td>   two</td>\n",
        "      <td> 5</td>\n",
        "      <td>  6</td>\n",
        "      <td>NaN</td>\n",
        "      <td>  8</td>\n",
        "      <td> world</td>\n",
        "    </tr>\n",
        "    <tr>\n",
        "      <th>2</th>\n",
        "      <td> three</td>\n",
        "      <td> 9</td>\n",
        "      <td> 10</td>\n",
        "      <td> 11</td>\n",
        "      <td> 12</td>\n",
        "      <td>   foo</td>\n",
        "    </tr>\n",
        "  </tbody>\n",
        "</table>\n",
        "</div>"
       ],
       "metadata": {},
       "output_type": "pyout",
       "prompt_number": 15,
       "text": [
        "  something  a   b   c   d message\n",
        "0       one  1   2   3   4     NaN\n",
        "1       two  5   6 NaN   8   world\n",
        "2     three  9  10  11  12     foo"
       ]
      }
     ],
     "prompt_number": 15
    },
    {
     "cell_type": "code",
     "collapsed": false,
     "input": [
      "pd.isnull(result)"
     ],
     "language": "python",
     "metadata": {},
     "outputs": [
      {
       "html": [
        "<div style=\"max-height:1000px;max-width:1500px;overflow:auto;\">\n",
        "<table border=\"1\" class=\"dataframe\">\n",
        "  <thead>\n",
        "    <tr style=\"text-align: right;\">\n",
        "      <th></th>\n",
        "      <th>something</th>\n",
        "      <th>a</th>\n",
        "      <th>b</th>\n",
        "      <th>c</th>\n",
        "      <th>d</th>\n",
        "      <th>message</th>\n",
        "    </tr>\n",
        "  </thead>\n",
        "  <tbody>\n",
        "    <tr>\n",
        "      <th>0</th>\n",
        "      <td> False</td>\n",
        "      <td> False</td>\n",
        "      <td> False</td>\n",
        "      <td> False</td>\n",
        "      <td> False</td>\n",
        "      <td>  True</td>\n",
        "    </tr>\n",
        "    <tr>\n",
        "      <th>1</th>\n",
        "      <td> False</td>\n",
        "      <td> False</td>\n",
        "      <td> False</td>\n",
        "      <td>  True</td>\n",
        "      <td> False</td>\n",
        "      <td> False</td>\n",
        "    </tr>\n",
        "    <tr>\n",
        "      <th>2</th>\n",
        "      <td> False</td>\n",
        "      <td> False</td>\n",
        "      <td> False</td>\n",
        "      <td> False</td>\n",
        "      <td> False</td>\n",
        "      <td> False</td>\n",
        "    </tr>\n",
        "  </tbody>\n",
        "</table>\n",
        "</div>"
       ],
       "metadata": {},
       "output_type": "pyout",
       "prompt_number": 16,
       "text": [
        "  something      a      b      c      d message\n",
        "0     False  False  False  False  False    True\n",
        "1     False  False  False   True  False   False\n",
        "2     False  False  False  False  False   False"
       ]
      }
     ],
     "prompt_number": 16
    },
    {
     "cell_type": "code",
     "collapsed": false,
     "input": [
      "result = pd.read_csv(\"data/ex5.csv\", na_values=[\"foo\"])\n",
      "result"
     ],
     "language": "python",
     "metadata": {},
     "outputs": [
      {
       "html": [
        "<div style=\"max-height:1000px;max-width:1500px;overflow:auto;\">\n",
        "<table border=\"1\" class=\"dataframe\">\n",
        "  <thead>\n",
        "    <tr style=\"text-align: right;\">\n",
        "      <th></th>\n",
        "      <th>something</th>\n",
        "      <th>a</th>\n",
        "      <th>b</th>\n",
        "      <th>c</th>\n",
        "      <th>d</th>\n",
        "      <th>message</th>\n",
        "    </tr>\n",
        "  </thead>\n",
        "  <tbody>\n",
        "    <tr>\n",
        "      <th>0</th>\n",
        "      <td>   one</td>\n",
        "      <td> 1</td>\n",
        "      <td>  2</td>\n",
        "      <td>  3</td>\n",
        "      <td>  4</td>\n",
        "      <td>   NaN</td>\n",
        "    </tr>\n",
        "    <tr>\n",
        "      <th>1</th>\n",
        "      <td>   two</td>\n",
        "      <td> 5</td>\n",
        "      <td>  6</td>\n",
        "      <td>NaN</td>\n",
        "      <td>  8</td>\n",
        "      <td> world</td>\n",
        "    </tr>\n",
        "    <tr>\n",
        "      <th>2</th>\n",
        "      <td> three</td>\n",
        "      <td> 9</td>\n",
        "      <td> 10</td>\n",
        "      <td> 11</td>\n",
        "      <td> 12</td>\n",
        "      <td>   NaN</td>\n",
        "    </tr>\n",
        "  </tbody>\n",
        "</table>\n",
        "</div>"
       ],
       "metadata": {},
       "output_type": "pyout",
       "prompt_number": 17,
       "text": [
        "  something  a   b   c   d message\n",
        "0       one  1   2   3   4     NaN\n",
        "1       two  5   6 NaN   8   world\n",
        "2     three  9  10  11  12     NaN"
       ]
      }
     ],
     "prompt_number": 17
    },
    {
     "cell_type": "code",
     "collapsed": false,
     "input": [
      "sentinels = {\"message\": [\"foo\", \"NA\"], \"something\": [\"two\"]}\n",
      "pd.read_csv(\"data/ex5.csv\", na_values=sentinels)"
     ],
     "language": "python",
     "metadata": {},
     "outputs": [
      {
       "html": [
        "<div style=\"max-height:1000px;max-width:1500px;overflow:auto;\">\n",
        "<table border=\"1\" class=\"dataframe\">\n",
        "  <thead>\n",
        "    <tr style=\"text-align: right;\">\n",
        "      <th></th>\n",
        "      <th>something</th>\n",
        "      <th>a</th>\n",
        "      <th>b</th>\n",
        "      <th>c</th>\n",
        "      <th>d</th>\n",
        "      <th>message</th>\n",
        "    </tr>\n",
        "  </thead>\n",
        "  <tbody>\n",
        "    <tr>\n",
        "      <th>0</th>\n",
        "      <td>   one</td>\n",
        "      <td> 1</td>\n",
        "      <td>  2</td>\n",
        "      <td>  3</td>\n",
        "      <td>  4</td>\n",
        "      <td>   NaN</td>\n",
        "    </tr>\n",
        "    <tr>\n",
        "      <th>1</th>\n",
        "      <td>   NaN</td>\n",
        "      <td> 5</td>\n",
        "      <td>  6</td>\n",
        "      <td>NaN</td>\n",
        "      <td>  8</td>\n",
        "      <td> world</td>\n",
        "    </tr>\n",
        "    <tr>\n",
        "      <th>2</th>\n",
        "      <td> three</td>\n",
        "      <td> 9</td>\n",
        "      <td> 10</td>\n",
        "      <td> 11</td>\n",
        "      <td> 12</td>\n",
        "      <td>   NaN</td>\n",
        "    </tr>\n",
        "  </tbody>\n",
        "</table>\n",
        "</div>"
       ],
       "metadata": {},
       "output_type": "pyout",
       "prompt_number": 18,
       "text": [
        "  something  a   b   c   d message\n",
        "0       one  1   2   3   4     NaN\n",
        "1       NaN  5   6 NaN   8   world\n",
        "2     three  9  10  11  12     NaN"
       ]
      }
     ],
     "prompt_number": 18
    },
    {
     "cell_type": "code",
     "collapsed": false,
     "input": [
      "data = pd.read_csv(\"data/ex5.csv\")\n",
      "data"
     ],
     "language": "python",
     "metadata": {},
     "outputs": [
      {
       "html": [
        "<div style=\"max-height:1000px;max-width:1500px;overflow:auto;\">\n",
        "<table border=\"1\" class=\"dataframe\">\n",
        "  <thead>\n",
        "    <tr style=\"text-align: right;\">\n",
        "      <th></th>\n",
        "      <th>something</th>\n",
        "      <th>a</th>\n",
        "      <th>b</th>\n",
        "      <th>c</th>\n",
        "      <th>d</th>\n",
        "      <th>message</th>\n",
        "    </tr>\n",
        "  </thead>\n",
        "  <tbody>\n",
        "    <tr>\n",
        "      <th>0</th>\n",
        "      <td>   one</td>\n",
        "      <td> 1</td>\n",
        "      <td>  2</td>\n",
        "      <td>  3</td>\n",
        "      <td>  4</td>\n",
        "      <td>   NaN</td>\n",
        "    </tr>\n",
        "    <tr>\n",
        "      <th>1</th>\n",
        "      <td>   two</td>\n",
        "      <td> 5</td>\n",
        "      <td>  6</td>\n",
        "      <td>NaN</td>\n",
        "      <td>  8</td>\n",
        "      <td> world</td>\n",
        "    </tr>\n",
        "    <tr>\n",
        "      <th>2</th>\n",
        "      <td> three</td>\n",
        "      <td> 9</td>\n",
        "      <td> 10</td>\n",
        "      <td> 11</td>\n",
        "      <td> 12</td>\n",
        "      <td>   foo</td>\n",
        "    </tr>\n",
        "  </tbody>\n",
        "</table>\n",
        "</div>"
       ],
       "metadata": {},
       "output_type": "pyout",
       "prompt_number": 19,
       "text": [
        "  something  a   b   c   d message\n",
        "0       one  1   2   3   4     NaN\n",
        "1       two  5   6 NaN   8   world\n",
        "2     three  9  10  11  12     foo"
       ]
      }
     ],
     "prompt_number": 19
    },
    {
     "cell_type": "code",
     "collapsed": false,
     "input": [
      "data.to_csv(\"data/out.csv\")"
     ],
     "language": "python",
     "metadata": {},
     "outputs": [],
     "prompt_number": 20
    },
    {
     "cell_type": "code",
     "collapsed": false,
     "input": [
      "!cat data/out.csv"
     ],
     "language": "python",
     "metadata": {},
     "outputs": [
      {
       "output_type": "stream",
       "stream": "stdout",
       "text": [
        ",something,a,b,c,d,message\r\n",
        "0,one,1,2,3.0,4,\r\n",
        "1,two,5,6,,8,world\r\n",
        "2,three,9,10,11.0,12,foo\r\n"
       ]
      }
     ],
     "prompt_number": 21
    },
    {
     "cell_type": "code",
     "collapsed": false,
     "input": [
      "import sys\n",
      "data.to_csv(sys.stdout, sep=\"|\")"
     ],
     "language": "python",
     "metadata": {},
     "outputs": [
      {
       "output_type": "stream",
       "stream": "stdout",
       "text": [
        "|something|a|b|c|d|message\n",
        "0|one|1|2|3.0|4|\n",
        "1|two|5|6||8|world\n",
        "2|three|9|10|11.0|12|foo\n"
       ]
      }
     ],
     "prompt_number": 22
    },
    {
     "cell_type": "code",
     "collapsed": false,
     "input": [
      "data.to_csv(sys.stdout, na_rep=\"NULL\")"
     ],
     "language": "python",
     "metadata": {},
     "outputs": [
      {
       "output_type": "stream",
       "stream": "stdout",
       "text": [
        ",something,a,b,c,d,message\n",
        "0,one,1,2,3.0,4,NULL\n",
        "1,two,5,6,NULL,8,world\n",
        "2,three,9,10,11.0,12,foo\n"
       ]
      }
     ],
     "prompt_number": 23
    },
    {
     "cell_type": "code",
     "collapsed": false,
     "input": [
      "data.to_csv(sys.stdout, index=False, header=False)"
     ],
     "language": "python",
     "metadata": {},
     "outputs": [
      {
       "output_type": "stream",
       "stream": "stdout",
       "text": [
        "one,1,2,3.0,4,\n",
        "two,5,6,,8,world\n",
        "three,9,10,11.0,12,foo\n"
       ]
      }
     ],
     "prompt_number": 24
    },
    {
     "cell_type": "code",
     "collapsed": false,
     "input": [
      "data.to_csv(sys.stdout, index=False, columns=[\"a\", \"b\", \"c\"])"
     ],
     "language": "python",
     "metadata": {},
     "outputs": [
      {
       "output_type": "stream",
       "stream": "stdout",
       "text": [
        "a,b,c\n",
        "1,2,3.0\n",
        "5,6,\n",
        "9,10,11.0\n"
       ]
      }
     ],
     "prompt_number": 25
    },
    {
     "cell_type": "code",
     "collapsed": false,
     "input": [
      "dates = pd.date_range(\"1/1/2000\", periods=7)\n",
      "ts = Series(np.arange(7), index=dates)\n",
      "ts.to_csv(\"data/tseries.csv\")\n",
      "!cat data/tseries.csv"
     ],
     "language": "python",
     "metadata": {},
     "outputs": [
      {
       "output_type": "stream",
       "stream": "stdout",
       "text": [
        "2000-01-01,0\r\n",
        "2000-01-02,1\r\n",
        "2000-01-03,2\r\n",
        "2000-01-04,3\r\n",
        "2000-01-05,4\r\n",
        "2000-01-06,5\r\n",
        "2000-01-07,6\r\n"
       ]
      }
     ],
     "prompt_number": 26
    },
    {
     "cell_type": "code",
     "collapsed": false,
     "input": [
      "Series.from_csv(\"data/tseries.csv\", parse_dates=True)"
     ],
     "language": "python",
     "metadata": {},
     "outputs": [
      {
       "metadata": {},
       "output_type": "pyout",
       "prompt_number": 27,
       "text": [
        "2000-01-01    0\n",
        "2000-01-02    1\n",
        "2000-01-03    2\n",
        "2000-01-04    3\n",
        "2000-01-05    4\n",
        "2000-01-06    5\n",
        "2000-01-07    6\n",
        "dtype: int64"
       ]
      }
     ],
     "prompt_number": 27
    },
    {
     "cell_type": "code",
     "collapsed": false,
     "input": [
      "import csv\n",
      "f = open(\"data/ex7.csv\")\n",
      "reader = csv.reader(f)\n",
      "\n",
      "for line in reader:\n",
      "    print line"
     ],
     "language": "python",
     "metadata": {},
     "outputs": [
      {
       "output_type": "stream",
       "stream": "stdout",
       "text": [
        "['a', 'b', 'c']\n",
        "['1', '2', '3']\n",
        "['1', '2', '3', '4']\n"
       ]
      }
     ],
     "prompt_number": 28
    },
    {
     "cell_type": "code",
     "collapsed": false,
     "input": [
      "lines = list(csv.reader(open(\"data/ex7.csv\")))\n",
      "header, values = lines[0], lines[1:]\n",
      "data_dict = {h: v for h,v in zip(header, zip(*values))}\n",
      "data_dict"
     ],
     "language": "python",
     "metadata": {},
     "outputs": [
      {
       "metadata": {},
       "output_type": "pyout",
       "prompt_number": 29,
       "text": [
        "{'a': ('1', '1'), 'b': ('2', '2'), 'c': ('3', '3')}"
       ]
      }
     ],
     "prompt_number": 29
    },
    {
     "cell_type": "code",
     "collapsed": false,
     "input": [
      "obj = \"\"\" {\"name\": \"Wes\",\n",
      "           \"places_lived\": [\"United States\", \"Spain\", \"Germany\"], \"pet\": null,\n",
      "           \"siblings\": [{\"name\": \"Scott\", \"age\": 25, \"pet\": \"Zuko\"},\n",
      "                        {\"name\": \"Katie\", \"age\": 33, \"pet\": \"Cisco\"}]\n",
      "          } \"\"\""
     ],
     "language": "python",
     "metadata": {},
     "outputs": [],
     "prompt_number": 30
    },
    {
     "cell_type": "code",
     "collapsed": false,
     "input": [
      "import json\n",
      "result = json.loads(obj)\n",
      "result"
     ],
     "language": "python",
     "metadata": {},
     "outputs": [
      {
       "metadata": {},
       "output_type": "pyout",
       "prompt_number": 31,
       "text": [
        "{u'name': u'Wes',\n",
        " u'pet': None,\n",
        " u'places_lived': [u'United States', u'Spain', u'Germany'],\n",
        " u'siblings': [{u'age': 25, u'name': u'Scott', u'pet': u'Zuko'},\n",
        "  {u'age': 33, u'name': u'Katie', u'pet': u'Cisco'}]}"
       ]
      }
     ],
     "prompt_number": 31
    },
    {
     "cell_type": "code",
     "collapsed": false,
     "input": [
      "asjson = json.dumps(result)\n",
      "asjson"
     ],
     "language": "python",
     "metadata": {},
     "outputs": [
      {
       "metadata": {},
       "output_type": "pyout",
       "prompt_number": 32,
       "text": [
        "'{\"pet\": null, \"siblings\": [{\"pet\": \"Zuko\", \"age\": 25, \"name\": \"Scott\"}, {\"pet\": \"Cisco\", \"age\": 33, \"name\": \"Katie\"}], \"name\": \"Wes\", \"places_lived\": [\"United States\", \"Spain\", \"Germany\"]}'"
       ]
      }
     ],
     "prompt_number": 32
    },
    {
     "cell_type": "code",
     "collapsed": false,
     "input": [
      "siblings = DataFrame(result[\"siblings\"], columns=[\"name\", \"age\"])\n",
      "siblings"
     ],
     "language": "python",
     "metadata": {},
     "outputs": [
      {
       "html": [
        "<div style=\"max-height:1000px;max-width:1500px;overflow:auto;\">\n",
        "<table border=\"1\" class=\"dataframe\">\n",
        "  <thead>\n",
        "    <tr style=\"text-align: right;\">\n",
        "      <th></th>\n",
        "      <th>name</th>\n",
        "      <th>age</th>\n",
        "    </tr>\n",
        "  </thead>\n",
        "  <tbody>\n",
        "    <tr>\n",
        "      <th>0</th>\n",
        "      <td> Scott</td>\n",
        "      <td> 25</td>\n",
        "    </tr>\n",
        "    <tr>\n",
        "      <th>1</th>\n",
        "      <td> Katie</td>\n",
        "      <td> 33</td>\n",
        "    </tr>\n",
        "  </tbody>\n",
        "</table>\n",
        "</div>"
       ],
       "metadata": {},
       "output_type": "pyout",
       "prompt_number": 33,
       "text": [
        "    name  age\n",
        "0  Scott   25\n",
        "1  Katie   33"
       ]
      }
     ],
     "prompt_number": 33
    },
    {
     "cell_type": "code",
     "collapsed": false,
     "input": [
      "from lxml.html import parse\n",
      "from urllib2 import urlopen\n",
      "\n",
      "parsed = parse(urlopen(\"http://finance.yahoo.com/q/op?s=AAPL+Options\"))\n",
      "doc = parsed.getroot()"
     ],
     "language": "python",
     "metadata": {},
     "outputs": [],
     "prompt_number": 34
    },
    {
     "cell_type": "code",
     "collapsed": false,
     "input": [
      "links = doc.findall(\".//a\")\n",
      "links[15:20]"
     ],
     "language": "python",
     "metadata": {},
     "outputs": [
      {
       "metadata": {},
       "output_type": "pyout",
       "prompt_number": 35,
       "text": [
        "[<Element a at 0x10d3ba998>,\n",
        " <Element a at 0x10d3ba9f0>,\n",
        " <Element a at 0x10d3baa48>,\n",
        " <Element a at 0x10d3baaa0>,\n",
        " <Element a at 0x10d3baaf8>]"
       ]
      }
     ],
     "prompt_number": 35
    },
    {
     "cell_type": "code",
     "collapsed": false,
     "input": [
      "lnk = links[28]\n",
      "lnk"
     ],
     "language": "python",
     "metadata": {},
     "outputs": [
      {
       "metadata": {},
       "output_type": "pyout",
       "prompt_number": 36,
       "text": [
        "<Element a at 0x10d3bae10>"
       ]
      }
     ],
     "prompt_number": 36
    },
    {
     "cell_type": "code",
     "collapsed": false,
     "input": [
      "lnk.get(\"href\")"
     ],
     "language": "python",
     "metadata": {},
     "outputs": [
      {
       "metadata": {},
       "output_type": "pyout",
       "prompt_number": 37,
       "text": [
        "'https://login.yahoo.com/config/login?.src=quote&.intl=us&.lang=en-US&.done=http://finance.yahoo.com/q/op%3fs=AAPL%2bOptions'"
       ]
      }
     ],
     "prompt_number": 37
    },
    {
     "cell_type": "code",
     "collapsed": false,
     "input": [
      "lnk.text_content()"
     ],
     "language": "python",
     "metadata": {},
     "outputs": [
      {
       "metadata": {},
       "output_type": "pyout",
       "prompt_number": 38,
       "text": [
        "' Sign In '"
       ]
      }
     ],
     "prompt_number": 38
    },
    {
     "cell_type": "code",
     "collapsed": false,
     "input": [
      "urls = [lnk.get('href') for lnk in doc.findall('.//a')]\n",
      "urls[-10:]"
     ],
     "language": "python",
     "metadata": {},
     "outputs": [
      {
       "metadata": {},
       "output_type": "pyout",
       "prompt_number": 39,
       "text": [
        "['/q?s=AAPL141018P00835000',\n",
        " '/q/op?s=AAPL&k=840.000000',\n",
        " '/q?s=AAPL141018P00840000',\n",
        " '/q/op?s=AAPL&k=845.000000',\n",
        " '/q?s=AAPL141018P00845000',\n",
        " '/q/os?s=AAPL&m=2014-10-18',\n",
        " 'http://help.yahoo.com/l/us/yahoo/finance/quotes/fitadelay.html',\n",
        " 'http://www.capitaliq.com',\n",
        " 'http://www.csidata.com',\n",
        " 'http://www.morningstar.com/']"
       ]
      }
     ],
     "prompt_number": 39
    },
    {
     "cell_type": "code",
     "collapsed": false,
     "input": [
      "tables = doc.findall(\".//table\")\n",
      "calls = tables[9]\n",
      "puts = tables[13]\n",
      "rows = calls.findall(\".//tr\")\n",
      "\n",
      "def _unpack(row, kind=\"td\"):\n",
      "    elts = row.findall(\".//%s\" % kind)\n",
      "    return [val.text_content() for val in elts]\n",
      "\n",
      "_unpack(rows[0], kind=\"th\")"
     ],
     "language": "python",
     "metadata": {},
     "outputs": [
      {
       "metadata": {},
       "output_type": "pyout",
       "prompt_number": 40,
       "text": [
        "['Strike', 'Symbol', 'Last', 'Chg', 'Bid', 'Ask', 'Vol', 'Open Int']"
       ]
      }
     ],
     "prompt_number": 40
    },
    {
     "cell_type": "code",
     "collapsed": false,
     "input": [
      "_unpack(rows[1], kind=\"td\")"
     ],
     "language": "python",
     "metadata": {},
     "outputs": [
      {
       "metadata": {},
       "output_type": "pyout",
       "prompt_number": 41,
       "text": [
        "['37.14', 'AAPL141018C00037140', '62.95', ' 0.80', 'N/A', 'N/A', '100', '137']"
       ]
      }
     ],
     "prompt_number": 41
    },
    {
     "cell_type": "code",
     "collapsed": false,
     "input": [
      "from pandas.io.parsers import TextParser\n",
      "\n",
      "def parse_options_data(table):\n",
      "    rows = table.findall(\".//tr\")\n",
      "    header = _unpack(rows[0], kind=\"th\")\n",
      "    data = [_unpack(r) for r in rows[1:]]\n",
      "    return TextParser(data, names=header).get_chunk()\n",
      "\n",
      "call_data = parse_options_data(calls)\n",
      "put_data = parse_options_data(puts)\n",
      "\n",
      "call_data[:10]"
     ],
     "language": "python",
     "metadata": {},
     "outputs": [
      {
       "html": [
        "<div style=\"max-height:1000px;max-width:1500px;overflow:auto;\">\n",
        "<table border=\"1\" class=\"dataframe\">\n",
        "  <thead>\n",
        "    <tr style=\"text-align: right;\">\n",
        "      <th></th>\n",
        "      <th>Strike</th>\n",
        "      <th>Symbol</th>\n",
        "      <th>Last</th>\n",
        "      <th>Chg</th>\n",
        "      <th>Bid</th>\n",
        "      <th>Ask</th>\n",
        "      <th>Vol</th>\n",
        "      <th>Open Int</th>\n",
        "    </tr>\n",
        "  </thead>\n",
        "  <tbody>\n",
        "    <tr>\n",
        "      <th>0</th>\n",
        "      <td> 37.14</td>\n",
        "      <td> AAPL141018C00037140</td>\n",
        "      <td> 62.95</td>\n",
        "      <td> 0.80</td>\n",
        "      <td>NaN</td>\n",
        "      <td>NaN</td>\n",
        "      <td> 100</td>\n",
        "      <td> 137</td>\n",
        "    </tr>\n",
        "    <tr>\n",
        "      <th>1</th>\n",
        "      <td> 37.86</td>\n",
        "      <td> AAPL141018C00037860</td>\n",
        "      <td> 63.65</td>\n",
        "      <td> 0.00</td>\n",
        "      <td>NaN</td>\n",
        "      <td>NaN</td>\n",
        "      <td>  71</td>\n",
        "      <td>  91</td>\n",
        "    </tr>\n",
        "    <tr>\n",
        "      <th>2</th>\n",
        "      <td> 38.57</td>\n",
        "      <td> AAPL141018C00038570</td>\n",
        "      <td> 61.65</td>\n",
        "      <td> 1.45</td>\n",
        "      <td>NaN</td>\n",
        "      <td>NaN</td>\n",
        "      <td>   2</td>\n",
        "      <td>  81</td>\n",
        "    </tr>\n",
        "    <tr>\n",
        "      <th>3</th>\n",
        "      <td> 39.29</td>\n",
        "      <td> AAPL141018C00039290</td>\n",
        "      <td> 61.65</td>\n",
        "      <td> 0.00</td>\n",
        "      <td>NaN</td>\n",
        "      <td>NaN</td>\n",
        "      <td>  70</td>\n",
        "      <td>  97</td>\n",
        "    </tr>\n",
        "    <tr>\n",
        "      <th>4</th>\n",
        "      <td> 40.00</td>\n",
        "      <td> AAPL141018C00040000</td>\n",
        "      <td> 60.25</td>\n",
        "      <td> 1.65</td>\n",
        "      <td>NaN</td>\n",
        "      <td>NaN</td>\n",
        "      <td>   8</td>\n",
        "      <td> 138</td>\n",
        "    </tr>\n",
        "    <tr>\n",
        "      <th>5</th>\n",
        "      <td> 40.71</td>\n",
        "      <td> AAPL141018C00040710</td>\n",
        "      <td> 57.70</td>\n",
        "      <td> 0.00</td>\n",
        "      <td>NaN</td>\n",
        "      <td>NaN</td>\n",
        "      <td>   1</td>\n",
        "      <td>  33</td>\n",
        "    </tr>\n",
        "    <tr>\n",
        "      <th>6</th>\n",
        "      <td> 41.43</td>\n",
        "      <td> AAPL141018C00041430</td>\n",
        "      <td> 60.30</td>\n",
        "      <td> 0.00</td>\n",
        "      <td>NaN</td>\n",
        "      <td>NaN</td>\n",
        "      <td>  40</td>\n",
        "      <td>  61</td>\n",
        "    </tr>\n",
        "    <tr>\n",
        "      <th>7</th>\n",
        "      <td> 42.14</td>\n",
        "      <td> AAPL141018C00042140</td>\n",
        "      <td> 59.60</td>\n",
        "      <td> 0.00</td>\n",
        "      <td>NaN</td>\n",
        "      <td>NaN</td>\n",
        "      <td>  10</td>\n",
        "      <td>  10</td>\n",
        "    </tr>\n",
        "    <tr>\n",
        "      <th>8</th>\n",
        "      <td> 42.86</td>\n",
        "      <td> AAPL141018C00042860</td>\n",
        "      <td> 58.66</td>\n",
        "      <td> 0.00</td>\n",
        "      <td>NaN</td>\n",
        "      <td>NaN</td>\n",
        "      <td>   7</td>\n",
        "      <td> 388</td>\n",
        "    </tr>\n",
        "    <tr>\n",
        "      <th>9</th>\n",
        "      <td> 43.57</td>\n",
        "      <td> AAPL141018C00043570</td>\n",
        "      <td> 55.20</td>\n",
        "      <td> 0.00</td>\n",
        "      <td>NaN</td>\n",
        "      <td>NaN</td>\n",
        "      <td>  10</td>\n",
        "      <td> 130</td>\n",
        "    </tr>\n",
        "  </tbody>\n",
        "</table>\n",
        "</div>"
       ],
       "metadata": {},
       "output_type": "pyout",
       "prompt_number": 42,
       "text": [
        "   Strike               Symbol   Last   Chg  Bid  Ask  Vol Open Int\n",
        "0   37.14  AAPL141018C00037140  62.95  0.80  NaN  NaN  100      137\n",
        "1   37.86  AAPL141018C00037860  63.65  0.00  NaN  NaN   71       91\n",
        "2   38.57  AAPL141018C00038570  61.65  1.45  NaN  NaN    2       81\n",
        "3   39.29  AAPL141018C00039290  61.65  0.00  NaN  NaN   70       97\n",
        "4   40.00  AAPL141018C00040000  60.25  1.65  NaN  NaN    8      138\n",
        "5   40.71  AAPL141018C00040710  57.70  0.00  NaN  NaN    1       33\n",
        "6   41.43  AAPL141018C00041430  60.30  0.00  NaN  NaN   40       61\n",
        "7   42.14  AAPL141018C00042140  59.60  0.00  NaN  NaN   10       10\n",
        "8   42.86  AAPL141018C00042860  58.66  0.00  NaN  NaN    7      388\n",
        "9   43.57  AAPL141018C00043570  55.20  0.00  NaN  NaN   10      130"
       ]
      }
     ],
     "prompt_number": 42
    },
    {
     "cell_type": "code",
     "collapsed": false,
     "input": [
      "frame = pd.read_csv(\"data/ex1.csv\")\n",
      "frame"
     ],
     "language": "python",
     "metadata": {},
     "outputs": [
      {
       "html": [
        "<div style=\"max-height:1000px;max-width:1500px;overflow:auto;\">\n",
        "<table border=\"1\" class=\"dataframe\">\n",
        "  <thead>\n",
        "    <tr style=\"text-align: right;\">\n",
        "      <th></th>\n",
        "      <th>a</th>\n",
        "      <th>b</th>\n",
        "      <th>c</th>\n",
        "      <th>d</th>\n",
        "      <th>message</th>\n",
        "    </tr>\n",
        "  </thead>\n",
        "  <tbody>\n",
        "    <tr>\n",
        "      <th>0</th>\n",
        "      <td> 1</td>\n",
        "      <td>  2</td>\n",
        "      <td>  3</td>\n",
        "      <td>  4</td>\n",
        "      <td> hello</td>\n",
        "    </tr>\n",
        "    <tr>\n",
        "      <th>1</th>\n",
        "      <td> 5</td>\n",
        "      <td>  6</td>\n",
        "      <td>  7</td>\n",
        "      <td>  8</td>\n",
        "      <td> world</td>\n",
        "    </tr>\n",
        "    <tr>\n",
        "      <th>2</th>\n",
        "      <td> 9</td>\n",
        "      <td> 10</td>\n",
        "      <td> 11</td>\n",
        "      <td> 12</td>\n",
        "      <td>   foo</td>\n",
        "    </tr>\n",
        "  </tbody>\n",
        "</table>\n",
        "</div>"
       ],
       "metadata": {},
       "output_type": "pyout",
       "prompt_number": 43,
       "text": [
        "   a   b   c   d message\n",
        "0  1   2   3   4   hello\n",
        "1  5   6   7   8   world\n",
        "2  9  10  11  12     foo"
       ]
      }
     ],
     "prompt_number": 43
    },
    {
     "cell_type": "code",
     "collapsed": false,
     "input": [
      "frame.to_pickle(\"data/frame_pickle\")\n",
      "pd.read_pickle(\"data/frame_pickle\")"
     ],
     "language": "python",
     "metadata": {},
     "outputs": [
      {
       "html": [
        "<div style=\"max-height:1000px;max-width:1500px;overflow:auto;\">\n",
        "<table border=\"1\" class=\"dataframe\">\n",
        "  <thead>\n",
        "    <tr style=\"text-align: right;\">\n",
        "      <th></th>\n",
        "      <th>a</th>\n",
        "      <th>b</th>\n",
        "      <th>c</th>\n",
        "      <th>d</th>\n",
        "      <th>message</th>\n",
        "    </tr>\n",
        "  </thead>\n",
        "  <tbody>\n",
        "    <tr>\n",
        "      <th>0</th>\n",
        "      <td> 1</td>\n",
        "      <td>  2</td>\n",
        "      <td>  3</td>\n",
        "      <td>  4</td>\n",
        "      <td> hello</td>\n",
        "    </tr>\n",
        "    <tr>\n",
        "      <th>1</th>\n",
        "      <td> 5</td>\n",
        "      <td>  6</td>\n",
        "      <td>  7</td>\n",
        "      <td>  8</td>\n",
        "      <td> world</td>\n",
        "    </tr>\n",
        "    <tr>\n",
        "      <th>2</th>\n",
        "      <td> 9</td>\n",
        "      <td> 10</td>\n",
        "      <td> 11</td>\n",
        "      <td> 12</td>\n",
        "      <td>   foo</td>\n",
        "    </tr>\n",
        "  </tbody>\n",
        "</table>\n",
        "</div>"
       ],
       "metadata": {},
       "output_type": "pyout",
       "prompt_number": 44,
       "text": [
        "   a   b   c   d message\n",
        "0  1   2   3   4   hello\n",
        "1  5   6   7   8   world\n",
        "2  9  10  11  12     foo"
       ]
      }
     ],
     "prompt_number": 44
    },
    {
     "cell_type": "code",
     "collapsed": false,
     "input": [
      "import sqlite3\n",
      "\n",
      "query = \"\"\"\n",
      "CREATE TABLE test\n",
      "(a varchar(20),\n",
      " b varchar(20),\n",
      " c REAL,\n",
      " d INTEGER\n",
      ");\n",
      "\"\"\"\n",
      "\n",
      "con = sqlite3.connect(\":memory\")\n",
      "con.execute(query)\n",
      "con.commit()"
     ],
     "language": "python",
     "metadata": {},
     "outputs": [],
     "prompt_number": 45
    },
    {
     "cell_type": "code",
     "collapsed": false,
     "input": [
      "data = [(\"Atlanta\", \"Georgia\", 1.25, 6),\n",
      "        (\"Tallahassee\", \"Florida\", 2.6, 3),\n",
      "        (\"Sacramento\", \"California\", 1.7, 5)]\n",
      "stmt = \"Insert into test Values(?, ?, ?, ?)\"\n",
      "\n",
      "con.executemany(stmt, data)\n",
      "con.commit()"
     ],
     "language": "python",
     "metadata": {},
     "outputs": [],
     "prompt_number": 46
    },
    {
     "cell_type": "code",
     "collapsed": false,
     "input": [
      "cursor = con.execute(\"select * from test\")\n",
      "rows = cursor.fetchall()\n",
      "rows"
     ],
     "language": "python",
     "metadata": {},
     "outputs": [
      {
       "metadata": {},
       "output_type": "pyout",
       "prompt_number": 48,
       "text": [
        "[(u'Atlanta', u'Georgia', 1.25, 6),\n",
        " (u'Tallahassee', u'Florida', 2.6, 3),\n",
        " (u'Sacramento', u'California', 1.7, 5)]"
       ]
      }
     ],
     "prompt_number": 48
    },
    {
     "cell_type": "code",
     "collapsed": false,
     "input": [
      "cursor.description"
     ],
     "language": "python",
     "metadata": {},
     "outputs": [
      {
       "metadata": {},
       "output_type": "pyout",
       "prompt_number": 49,
       "text": [
        "(('a', None, None, None, None, None, None),\n",
        " ('b', None, None, None, None, None, None),\n",
        " ('c', None, None, None, None, None, None),\n",
        " ('d', None, None, None, None, None, None))"
       ]
      }
     ],
     "prompt_number": 49
    },
    {
     "cell_type": "code",
     "collapsed": false,
     "input": [
      "DataFrame(rows, columns=zip(*cursor.description)[0])"
     ],
     "language": "python",
     "metadata": {},
     "outputs": [
      {
       "html": [
        "<div style=\"max-height:1000px;max-width:1500px;overflow:auto;\">\n",
        "<table border=\"1\" class=\"dataframe\">\n",
        "  <thead>\n",
        "    <tr style=\"text-align: right;\">\n",
        "      <th></th>\n",
        "      <th>a</th>\n",
        "      <th>b</th>\n",
        "      <th>c</th>\n",
        "      <th>d</th>\n",
        "    </tr>\n",
        "  </thead>\n",
        "  <tbody>\n",
        "    <tr>\n",
        "      <th>0</th>\n",
        "      <td>     Atlanta</td>\n",
        "      <td>    Georgia</td>\n",
        "      <td> 1.25</td>\n",
        "      <td> 6</td>\n",
        "    </tr>\n",
        "    <tr>\n",
        "      <th>1</th>\n",
        "      <td> Tallahassee</td>\n",
        "      <td>    Florida</td>\n",
        "      <td> 2.60</td>\n",
        "      <td> 3</td>\n",
        "    </tr>\n",
        "    <tr>\n",
        "      <th>2</th>\n",
        "      <td>  Sacramento</td>\n",
        "      <td> California</td>\n",
        "      <td> 1.70</td>\n",
        "      <td> 5</td>\n",
        "    </tr>\n",
        "  </tbody>\n",
        "</table>\n",
        "</div>"
       ],
       "metadata": {},
       "output_type": "pyout",
       "prompt_number": 50,
       "text": [
        "             a           b     c  d\n",
        "0      Atlanta     Georgia  1.25  6\n",
        "1  Tallahassee     Florida  2.60  3\n",
        "2   Sacramento  California  1.70  5"
       ]
      }
     ],
     "prompt_number": 50
    },
    {
     "cell_type": "code",
     "collapsed": false,
     "input": [
      "import pandas.io.sql as sql\n",
      "sql.read_sql(\"select * from test\", con)"
     ],
     "language": "python",
     "metadata": {},
     "outputs": [
      {
       "html": [
        "<div style=\"max-height:1000px;max-width:1500px;overflow:auto;\">\n",
        "<table border=\"1\" class=\"dataframe\">\n",
        "  <thead>\n",
        "    <tr style=\"text-align: right;\">\n",
        "      <th></th>\n",
        "      <th>a</th>\n",
        "      <th>b</th>\n",
        "      <th>c</th>\n",
        "      <th>d</th>\n",
        "    </tr>\n",
        "  </thead>\n",
        "  <tbody>\n",
        "    <tr>\n",
        "      <th>0</th>\n",
        "      <td>     Atlanta</td>\n",
        "      <td>    Georgia</td>\n",
        "      <td> 1.25</td>\n",
        "      <td> 6</td>\n",
        "    </tr>\n",
        "    <tr>\n",
        "      <th>1</th>\n",
        "      <td> Tallahassee</td>\n",
        "      <td>    Florida</td>\n",
        "      <td> 2.60</td>\n",
        "      <td> 3</td>\n",
        "    </tr>\n",
        "    <tr>\n",
        "      <th>2</th>\n",
        "      <td>  Sacramento</td>\n",
        "      <td> California</td>\n",
        "      <td> 1.70</td>\n",
        "      <td> 5</td>\n",
        "    </tr>\n",
        "  </tbody>\n",
        "</table>\n",
        "</div>"
       ],
       "metadata": {},
       "output_type": "pyout",
       "prompt_number": 52,
       "text": [
        "             a           b     c  d\n",
        "0      Atlanta     Georgia  1.25  6\n",
        "1  Tallahassee     Florida  2.60  3\n",
        "2   Sacramento  California  1.70  5"
       ]
      }
     ],
     "prompt_number": 52
    },
    {
     "cell_type": "code",
     "collapsed": false,
     "input": [],
     "language": "python",
     "metadata": {},
     "outputs": []
    }
   ],
   "metadata": {}
  }
 ]
}